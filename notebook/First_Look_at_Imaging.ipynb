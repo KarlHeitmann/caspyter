{
 "cells": [
  {
   "cell_type": "code",
   "execution_count": 1,
   "metadata": {
    "collapsed": true
   },
   "outputs": [],
   "source": [
    "%matplotlib inline"
   ]
  },
  {
   "cell_type": "code",
   "execution_count": 2,
   "metadata": {},
   "outputs": [
    {
     "name": "stderr",
     "output_type": "stream",
     "text": [
      "/mnt/exthdd001/karl/workspace/caspyter/caspyter/casanova/python-env/lib/python2.7/site-packages/IPython/kernel/__init__.py:13: ShimWarning: The `IPython.kernel` package has been deprecated since IPython 4.0.You should import from ipykernel or jupyter_client instead.\n",
      "  \"You should import from ipykernel or jupyter_client instead.\", ShimWarning)\n"
     ]
    },
    {
     "name": "stdout",
     "output_type": "stream",
     "text": [
      "warning: dbus is not available, viewer scripting will not be available\n",
      "Unable to start viewer, maybe no dbus available?\n"
     ]
    }
   ],
   "source": [
    "from casat import plotants\n",
    "plotants = plotants.plotants\n",
    "from casat import listobs\n",
    "listobs = listobs.listobs\n",
    "from casat import plotms\n",
    "plotms = plotms.plotms"
   ]
  },
  {
   "cell_type": "code",
   "execution_count": 3,
   "metadata": {
    "collapsed": true
   },
   "outputs": [],
   "source": [
    "from casat import listobs\n",
    "listobs = listobs.listobs"
   ]
  },
  {
   "cell_type": "code",
   "execution_count": 4,
   "metadata": {
    "collapsed": true
   },
   "outputs": [],
   "source": [
    "from casat import exportfits\n",
    "exportfits = exportfits.exportfits"
   ]
  },
  {
   "cell_type": "code",
   "execution_count": 5,
   "metadata": {
    "collapsed": true
   },
   "outputs": [],
   "source": [
    "from casat import clean\n",
    "clean = clean.clean"
   ]
  },
  {
   "cell_type": "code",
   "execution_count": 6,
   "metadata": {
    "collapsed": true
   },
   "outputs": [],
   "source": [
    "from casat import imview\n",
    "imview = imview.imview"
   ]
  },
  {
   "cell_type": "markdown",
   "metadata": {},
   "source": [
    "### About the Sample Data: Continuum and N2H+ in TW Hydra\n",
    "---\n",
    "The data for this example comes from ALMA Project 2011.0.00340.S, \"*Searching for H2D+ in the disk of TW Hya v1.5*\", for which the PI is Chunhua Qi. Part of the data for this project has been published in Qi et al. 2013.\n",
    "The original observation had three scientific objectives:\n",
    "\n",
    "* Image the submm continuum structure in TW Hydra\n",
    "\n",
    "* Image the H2D+ line structure (rest frequency 372.42138 GHz)\n",
    "\n",
    "* Image the N2H+ line structure (rest frequency 372.67249 GHz)\n",
    "\n",
    "The data used in our tutorial has already been calibrated. Furthermore, to make the data set more manageable, we have reduced it in size by averaging in time and frequency. Our goal will be to image the continuum emission and the N2H+ spectral line, which is bright and well suited for demonstrating the imaging techniques.\n",
    "The spectral window we will image covers 234.375 MHz in bandwidth, and contains 384 channels spaced by 610 kHz. The data includes observations from 21 of the ALMA 12-m main array antennas, observed during Early Science Cycle 0."
   ]
  },
  {
   "cell_type": "code",
   "execution_count": 7,
   "metadata": {},
   "outputs": [
    {
     "data": {
      "text/plain": [
       "False"
      ]
     },
     "execution_count": 7,
     "metadata": {},
     "output_type": "execute_result"
    }
   ],
   "source": [
    "from casat import plotms\n",
    "plotms = plotms.plotms\n",
    "\n",
    "plotants(vis='sis14_twhya_calibrated_flagged.ms')"
   ]
  },
  {
   "cell_type": "markdown",
   "metadata": {},
   "source": [
    "Using tasks, and getting oriented with the data\n",
    "---\n",
    "The first step in all data reduction with CASA is to examine the header information and data structure for the data set using the listobs task. In CASA, there are two ways to execute tasks. You can either set the parameters one-by-one and then instruct CASA to \"go\" when you're ready, or you can execute the task with a single command. For example, here is how you can use the first method:"
   ]
  },
  {
   "cell_type": "code",
   "execution_count": 19,
   "metadata": {},
   "outputs": [
    {
     "name": "stdout",
     "output_type": "stream",
     "text": [
      "casapy-20161013-180118.log   \u001b[0m\u001b[38;5;27msecondary.model\u001b[0m/\r\n",
      "casapy.log                   \u001b[38;5;27msecondary.psf\u001b[0m/\r\n",
      "First_Look_at_Imaging.ipynb  \u001b[38;5;27msecondary.residual\u001b[0m/\r\n",
      "list.txt                     sis14_twhya_calibrated_flagged.fits\r\n",
      "\u001b[38;5;27msecondary.flux\u001b[0m/              \u001b[38;5;27msis14_twhya_calibrated_flagged.ms\u001b[0m/\r\n",
      "\u001b[38;5;27msecondary.image\u001b[0m/\r\n",
      "\u001b[m"
     ]
    }
   ],
   "source": [
    "ls"
   ]
  },
  {
   "cell_type": "code",
   "execution_count": 8,
   "metadata": {},
   "outputs": [
    {
     "data": {
      "text/plain": [
       "True"
      ]
     },
     "execution_count": 8,
     "metadata": {},
     "output_type": "execute_result"
    }
   ],
   "source": [
    "listobs(vis='sis14_twhya_calibrated_flagged.ms',listfile='list.txt')"
   ]
  },
  {
   "cell_type": "code",
   "execution_count": 9,
   "metadata": {},
   "outputs": [
    {
     "name": "stdout",
     "output_type": "stream",
     "text": [
      "================================================================================\r\n",
      "           MeasurementSet Name:  /home/vagrant/lab/maray/sis14_twhya_calibrated_flagged.ms      MS Version 2\r\n",
      "================================================================================\r\n",
      "   Observer: cqi     Project: uid://A002/X327408/X6f  \r\n",
      "Observation: ALMA\r\n",
      "Data records: 80563       Total elapsed time = 5647.68 seconds\r\n",
      "   Observed from   19-Nov-2012/07:36:57.0   to   19-Nov-2012/09:11:04.7 (UTC)\r\n",
      "\r\n",
      "   ObservationID = 0         ArrayID = 0\r\n",
      "  Date        Timerange (UTC)          Scan  FldId FieldName             nRows     SpwIds   Average Interval(s)    ScanIntent\r\n",
      "  19-Nov-2012/07:36:57.0 - 07:39:13.1     4      0 J0522-364                 4200  [0]  [6.05] [CALIBRATE_BANDPASS#ON_SOURCE,CALIBRATE_PHASE#ON_SOURCE,CALIBRATE_WVR#ON_SOURCE]\r\n",
      "              07:44:45.2 - 07:47:01.2     7      2 Ceres                     3800  [0]  [6.05] [CALIBRATE_AMPLI#ON_SOURCE,CALIBRATE_PHASE#ON_SOURCE,CALIBRATE_WVR#ON_SOURCE]\r\n",
      "              07:52:42.0 - 07:53:47.6    10      3 J1037-295                 1900  [0]  [6.05] [CALIBRATE_PHASE#ON_SOURCE,CALIBRATE_WVR#ON_SOURCE]\r\n",
      "              07:56:23.5 - 08:02:11.3    12      5 TW Hya                    8514  [0]  [6.05] [OBSERVE_TARGET#ON_SOURCE]\r\n",
      "              08:04:36.3 - 08:05:41.9    14      3 J1037-295                 1900  [0]  [6.05] [CALIBRATE_PHASE#ON_SOURCE,CALIBRATE_WVR#ON_SOURCE]\r\n",
      "              08:08:09.6 - 08:13:57.3    16      5 TW Hya                   10360  [0]  [6.05] [OBSERVE_TARGET#ON_SOURCE]\r\n",
      "              08:16:20.6 - 08:17:26.2    18      3 J1037-295                 2100  [0]  [6.05] [CALIBRATE_PHASE#ON_SOURCE,CALIBRATE_WVR#ON_SOURCE]\r\n",
      "              08:19:53.9 - 08:25:41.7    20      5 TW Hya                   10321  [0]  [6.05] [OBSERVE_TARGET#ON_SOURCE]\r\n",
      "              08:28:17.1 - 08:29:22.6    22      3 J1037-295                 2100  [0]  [6.05] [CALIBRATE_PHASE#ON_SOURCE,CALIBRATE_WVR#ON_SOURCE]\r\n",
      "              08:32:00.5 - 08:37:48.2    24      5 TW Hya                   10324  [0]  [6.05] [OBSERVE_TARGET#ON_SOURCE]\r\n",
      "              08:40:11.9 - 08:41:17.4    26      3 J1037-295                 2100  [0]  [6.05] [CALIBRATE_PHASE#ON_SOURCE,CALIBRATE_WVR#ON_SOURCE]\r\n",
      "              08:43:45.6 - 08:49:33.4    28      5 TW Hya                    9462  [0]  [6.05] [OBSERVE_TARGET#ON_SOURCE]\r\n",
      "              08:51:57.1 - 08:53:02.6    30      3 J1037-295                 1900  [0]  [6.05] [CALIBRATE_PHASE#ON_SOURCE,CALIBRATE_WVR#ON_SOURCE]\r\n",
      "              08:58:12.0 - 09:00:28.1    33      6 3c279                     3402  [0]  [6.05] [CALIBRATE_BANDPASS#ON_SOURCE,CALIBRATE_PHASE#ON_SOURCE,CALIBRATE_WVR#ON_SOURCE]\r\n",
      "              09:01:35.7 - 09:02:41.2    34      3 J1037-295                 1900  [0]  [6.05] [CALIBRATE_PHASE#ON_SOURCE,CALIBRATE_WVR#ON_SOURCE]\r\n",
      "              09:05:15.6 - 09:07:31.6    36      5 TW Hya                    4180  [0]  [6.05] [OBSERVE_TARGET#ON_SOURCE]\r\n",
      "              09:09:59.1 - 09:11:04.7    38      3 J1037-295                 2100  [0]  [6.05] [CALIBRATE_PHASE#ON_SOURCE,CALIBRATE_WVR#ON_SOURCE]\r\n",
      "           (nRows = Total number of rows per scan) \r\n",
      "Fields: 5\r\n",
      "  ID   Code Name                RA               Decl           Epoch   SrcId      nRows\r\n",
      "  0    none J0522-364           05:22:57.984648 -36.27.30.85128 J2000   0           4200\r\n",
      "  2    none Ceres               06:10:15.950590 +23.22.06.90668 J2000   2           3800\r\n",
      "  3    none J1037-295           10:37:16.079736 -29.34.02.81316 J2000   3          16000\r\n",
      "  5    none TW Hya              11:01:51.796000 -34.42.17.36600 J2000   4          53161\r\n",
      "  6    none 3c279               12:56:11.166576 -05.47.21.52464 J2000   5           3402\r\n",
      "Spectral Windows:  (1 unique spectral windows and 1 unique polarization setups)\r\n",
      "  SpwID  Name                           #Chans   Frame   Ch0(MHz)  ChanWid(kHz)  TotBW(kHz) CtrFreq(MHz) BBC Num  Corrs  \r\n",
      "  0      ALMA_RB_07#BB_2#SW-01#FULL_RES    384   TOPO  372533.086       610.352    234375.0 372649.9688        2  XX  YY\r\n",
      "Sources: 5\r\n",
      "  ID   Name                SpwId RestFreq(MHz)  SysVel(km/s) \r\n",
      "  0    J0522-364           0     -              -            \r\n",
      "  1    Ceres               0     -              -            \r\n",
      "  2    J1037-295           0     -              -            \r\n",
      "  3    TW Hya              0     -              -            \r\n",
      "  4    3c279               0     -              -            \r\n",
      "Antennas: 21:\r\n",
      "  ID   Name  Station   Diam.    Long.         Lat.                Offset from array center (m)                ITRF Geocentric coordinates (m)        \r\n",
      "                                                                     East         North     Elevation               x               y               z\r\n",
      "  1    DA42  A050      12.0 m   -067.45.16.2  -22.53.29.3         43.0352     -744.9713       21.6702  2225079.880016 -5440041.377534 -2481724.598031\r\n",
      "  2    DA44  A068      12.0 m   -067.45.20.6  -22.53.25.7        -82.4232     -631.7828       23.5810  2224981.097784 -5440131.250387 -2481621.066374\r\n",
      "  3    DA45  A070      12.0 m   -067.45.11.9  -22.53.29.3        166.1833     -743.4934       19.8811  2225193.450167 -5439993.764157 -2481722.540534\r\n",
      "  4    DA46  A067      12.0 m   -067.45.12.7  -22.53.27.2        142.4097     -678.7318       20.1280  2225181.070532 -5440026.290790 -2481662.975103\r\n",
      "  5    DA48  A046      12.0 m   -067.45.17.0  -22.53.29.3         21.4267     -742.7987       21.6757  2225060.202580 -5440050.344436 -2481722.598651\r\n",
      "  6    DA49  A029      12.0 m   -067.45.18.2  -22.53.25.8        -12.9134     -636.4552       22.1350  2225044.239583 -5440102.022535 -2481624.808405\r\n",
      "  7    DA50  A045      12.0 m   -067.45.17.9  -22.53.30.1         -5.4183     -767.4398       22.6034  2225032.051652 -5440052.426015 -2481745.660003\r\n",
      "  9    DV02  A077      12.0 m   -067.45.10.1  -22.53.25.9        217.6299     -637.5333       15.8376  2225255.259272 -5440008.987869 -2481623.352052\r\n",
      "  11   DV05  A082      12.0 m   -067.45.08.3  -22.53.29.2        269.0433     -740.9521       15.7832  2225287.593766 -5439952.243679 -2481718.605314\r\n",
      "  12   DV06  A037      12.0 m   -067.45.17.5  -22.53.28.8          6.7403     -727.3003       21.2086  2225048.729287 -5440061.085777 -2481708.139136\r\n",
      "  14   DV08  A021      12.0 m   -067.45.17.2  -22.53.27.0         14.3196     -672.8108       21.3420  2225063.814715 -5440077.948261 -2481657.992572\r\n",
      "  15   DV10  A071      12.0 m   -067.45.19.9  -22.53.23.5        -60.7887     -563.2541       23.3799  2225011.141945 -5440147.560932 -2481557.855663\r\n",
      "  16   DV13  A072      12.0 m   -067.45.12.6  -22.53.24.0        147.1742     -580.5887       18.1825  2225199.254375 -5440058.161494 -2481571.803699\r\n",
      "  17   DV15  A074      12.0 m   -067.45.12.1  -22.53.32.0        161.8159     -828.6196       18.7688  2225176.483514 -5439963.820451 -2481800.529842\r\n",
      "  18   DV16  A069      12.0 m   -067.45.21.3  -22.53.30.2       -101.4797     -770.1047       23.2972  2224942.993176 -5440088.421459 -2481748.384855\r\n",
      "  19   DV17  A138      12.0 m   -067.45.17.1  -22.53.34.4         19.1461     -901.2603       26.0137  2225036.269025 -5439997.853009 -2481870.267607\r\n",
      "  20   DV18  A053      12.0 m   -067.45.17.3  -22.53.31.2         12.5939     -802.9941       21.5281  2225043.111690 -5440031.889497 -2481777.995870\r\n",
      "  21   DV19  A008      12.0 m   -067.45.15.4  -22.53.26.8         67.5592     -667.6872       20.9574  2225113.709955 -5440059.310545 -2481653.122797\r\n",
      "  22   DV20  A020      12.0 m   -067.45.17.8  -22.53.28.0         -2.9649     -703.4389       21.6629  2225043.419055 -5440073.737929 -2481686.333574\r\n",
      "  24   DV22  A011      12.0 m   -067.45.14.4  -22.53.28.4         95.9131     -716.5005       21.0898  2225132.810230 -5440031.115405 -2481698.143589\r\n",
      "  25   DV23  A007      12.0 m   -067.45.15.1  -22.53.27.3         74.0152     -681.2926       21.3231  2225117.809276 -5440052.280005 -2481665.799049\r\n"
     ]
    }
   ],
   "source": [
    "cat list.txt"
   ]
  },
  {
   "cell_type": "markdown",
   "metadata": {},
   "source": [
    "## First Look at Clean\n",
    "---\n",
    "Our secondary calibrator (also called the phase calibrator) is identified by field 3. Let's image this calibrator into an image file called \"secondary.\" First, in case you've run this task before, let's remove old versions of the image that use this name. (The \".*\" is needed because imaging produces several files with the same root name)."
   ]
  },
  {
   "cell_type": "code",
   "execution_count": 10,
   "metadata": {},
   "outputs": [],
   "source": [
    "clean(vis='sis14_twhya_calibrated_flagged.ms',\n",
    "imagename='secondary',\n",
    "field='3',\n",
    "spw='',\n",
    "mode='mfs',\n",
    "nterms=1,\n",
    "imsize=[256,256],\n",
    "cell=['0.1arcsec'],\n",
    "weighting='natural',\n",
    "threshold='0mJy')"
   ]
  },
  {
   "cell_type": "code",
   "execution_count": 11,
   "metadata": {},
   "outputs": [
    {
     "name": "stdout",
     "output_type": "stream",
     "text": [
      "casapy-20161013-180118.log   \u001b[0m\u001b[38;5;27msecondary.image\u001b[0m/\r\n",
      "casapy.log                   \u001b[38;5;27msecondary.model\u001b[0m/\r\n",
      "First_Look_at_Imaging.ipynb  \u001b[38;5;27msecondary.psf\u001b[0m/\r\n",
      "list.txt                     \u001b[38;5;27msecondary.residual\u001b[0m/\r\n",
      "\u001b[38;5;27msecondary.flux\u001b[0m/              \u001b[38;5;27msis14_twhya_calibrated_flagged.ms\u001b[0m/\r\n",
      "\u001b[m"
     ]
    }
   ],
   "source": [
    "ls"
   ]
  },
  {
   "cell_type": "code",
   "execution_count": 12,
   "metadata": {},
   "outputs": [],
   "source": [
    "exportfits(\n",
    "imagename='secondary.image', \n",
    "fitsimage='sis14_twhya_calibrated_flagged.fits', \n",
    "history=False,\n",
    "dropstokes=True,\n",
    "dropdeg=True,\n",
    "overwrite=True)"
   ]
  },
  {
   "cell_type": "code",
   "execution_count": 13,
   "metadata": {},
   "outputs": [
    {
     "name": "stdout",
     "output_type": "stream",
     "text": [
      "casapy-20161013-180118.log   \u001b[0m\u001b[38;5;27msecondary.model\u001b[0m/\r\n",
      "casapy.log                   \u001b[38;5;27msecondary.psf\u001b[0m/\r\n",
      "First_Look_at_Imaging.ipynb  \u001b[38;5;27msecondary.residual\u001b[0m/\r\n",
      "list.txt                     sis14_twhya_calibrated_flagged.fits\r\n",
      "\u001b[38;5;27msecondary.flux\u001b[0m/              \u001b[38;5;27msis14_twhya_calibrated_flagged.ms\u001b[0m/\r\n",
      "\u001b[38;5;27msecondary.image\u001b[0m/\r\n",
      "\u001b[m"
     ]
    }
   ],
   "source": [
    "ls"
   ]
  },
  {
   "cell_type": "markdown",
   "metadata": {},
   "source": [
    "Opening FITS files and loading the image data\n",
    "---\n",
    "I will open the FITS file and find out what it contains."
   ]
  },
  {
   "cell_type": "code",
   "execution_count": 14,
   "metadata": {
    "collapsed": true
   },
   "outputs": [],
   "source": [
    "from astropy.io import fits"
   ]
  },
  {
   "cell_type": "code",
   "execution_count": 15,
   "metadata": {
    "collapsed": true
   },
   "outputs": [],
   "source": [
    "import matplotlib.pyplot as plt"
   ]
  },
  {
   "cell_type": "code",
   "execution_count": 16,
   "metadata": {},
   "outputs": [
    {
     "name": "stdout",
     "output_type": "stream",
     "text": [
      "Filename: sis14_twhya_calibrated_flagged.fits\n",
      "No.    Name         Type      Cards   Dimensions   Format\n",
      "0    PRIMARY     PrimaryHDU      46   (256, 256)   float32   \n"
     ]
    }
   ],
   "source": [
    "hdu_list = fits.open(\"sis14_twhya_calibrated_flagged.fits\")\n",
    "hdu_list.info()"
   ]
  },
  {
   "cell_type": "code",
   "execution_count": 17,
   "metadata": {},
   "outputs": [
    {
     "name": "stdout",
     "output_type": "stream",
     "text": [
      "<type 'numpy.ndarray'>\n",
      "(256, 256)\n"
     ]
    }
   ],
   "source": [
    "image_data = fits.getdata(\"sis14_twhya_calibrated_flagged.fits\")\n",
    "print(type(image_data))\n",
    "print(image_data.shape)"
   ]
  },
  {
   "cell_type": "code",
   "execution_count": 18,
   "metadata": {},
   "outputs": [
    {
     "data": {
      "text/plain": [
       "<matplotlib.colorbar.Colorbar at 0x7f2b9f7d3710>"
      ]
     },
     "execution_count": 18,
     "metadata": {},
     "output_type": "execute_result"
    },
    {
     "data": {
      "image/png": "[encoded data removed]",
      "text/plain": [
       "<matplotlib.figure.Figure at 0x7f2b9b5f9ed0>"
      ]
     },
     "metadata": {},
     "output_type": "display_data"
    }
   ],
   "source": [
    "plt.imshow(image_data, cmap='gray')\n",
    "plt.colorbar()"
   ]
  },
  {
   "cell_type": "code",
   "execution_count": null,
   "metadata": {
    "collapsed": true
   },
   "outputs": [],
   "source": [
    "plt.imshow(image_data, cmap='gray')\n",
    "plt.colorbar()"
   ]
  }
 ],
 "metadata": {
  "anaconda-cloud": {},
  "kernelspec": {
   "display_name": "Python 2",
   "language": "python",
   "name": "python2"
  },
  "language_info": {
   "codemirror_mode": {
    "name": "ipython",
    "version": 2
   },
   "file_extension": ".py",
   "mimetype": "text/x-python",
   "name": "python",
   "nbconvert_exporter": "python",
   "pygments_lexer": "ipython2",
   "version": "2.7.13"
  }
 },
 "nbformat": 4,
 "nbformat_minor": 1
}
